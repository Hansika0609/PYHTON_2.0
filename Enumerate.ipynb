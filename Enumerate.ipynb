{
  "nbformat": 4,
  "nbformat_minor": 0,
  "metadata": {
    "colab": {
      "provenance": [],
      "authorship_tag": "ABX9TyPd3Mexi8Tnd4MNzs57LWqS",
      "include_colab_link": true
    },
    "kernelspec": {
      "name": "python3",
      "display_name": "Python 3"
    },
    "language_info": {
      "name": "python"
    }
  },
  "cells": [
    {
      "cell_type": "markdown",
      "metadata": {
        "id": "view-in-github",
        "colab_type": "text"
      },
      "source": [
        "<a href=\"https://colab.research.google.com/github/Hansika0609/PYHTON_2.0/blob/Fundamentals/Enumerate.ipynb\" target=\"_parent\"><img src=\"https://colab.research.google.com/assets/colab-badge.svg\" alt=\"Open In Colab\"/></a>"
      ]
    },
    {
      "cell_type": "code",
      "execution_count": 1,
      "metadata": {
        "colab": {
          "base_uri": "https://localhost:8080/"
        },
        "id": "67FUw9vY_Gxg",
        "outputId": "77b4368f-1c6b-4d21-ad2b-9de69e363638"
      },
      "outputs": [
        {
          "output_type": "stream",
          "name": "stdout",
          "text": [
            "0\n",
            "Rolf\n",
            "1\n",
            "John\n",
            "2\n",
            "Anna\n"
          ]
        }
      ],
      "source": [
        "friends=[\"Rolf\", \"John\", \"Anna\"]\n",
        "\n",
        "for counter, friend in enumerate(friends):\n",
        "  print(counter)\n",
        "  print(friend)"
      ]
    },
    {
      "cell_type": "code",
      "source": [
        "print(list(enumerate(friends)))"
      ],
      "metadata": {
        "colab": {
          "base_uri": "https://localhost:8080/"
        },
        "id": "H2YVIH4pAc7y",
        "outputId": "c5094c84-9135-48f5-8154-7230aa1ac90d"
      },
      "execution_count": 2,
      "outputs": [
        {
          "output_type": "stream",
          "name": "stdout",
          "text": [
            "[(0, 'Rolf'), (1, 'John'), (2, 'Anna')]\n"
          ]
        }
      ]
    },
    {
      "cell_type": "code",
      "source": [
        "print(dict(enumerate(friends)))"
      ],
      "metadata": {
        "colab": {
          "base_uri": "https://localhost:8080/"
        },
        "id": "KWukWl9jAj08",
        "outputId": "7a396ad5-28bf-4607-94e4-128da2a48b26"
      },
      "execution_count": 3,
      "outputs": [
        {
          "output_type": "stream",
          "name": "stdout",
          "text": [
            "{0: 'Rolf', 1: 'John', 2: 'Anna'}\n"
          ]
        }
      ]
    },
    {
      "cell_type": "code",
      "source": [
        "friends=[\"Rolf\", \"John\", \"Anna\"]\n",
        "\n",
        "for counter, friend in enumerate(friends, start=3):\n",
        "  print(counter)\n",
        "  print(friend)"
      ],
      "metadata": {
        "colab": {
          "base_uri": "https://localhost:8080/"
        },
        "id": "MYeHEOzXAq59",
        "outputId": "31afd98b-912f-4e62-924b-ea1d0a0e7d44"
      },
      "execution_count": 4,
      "outputs": [
        {
          "output_type": "stream",
          "name": "stdout",
          "text": [
            "3\n",
            "Rolf\n",
            "4\n",
            "John\n",
            "5\n",
            "Anna\n"
          ]
        }
      ]
    }
  ]
}