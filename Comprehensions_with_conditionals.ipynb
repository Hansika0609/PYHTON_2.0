{
  "nbformat": 4,
  "nbformat_minor": 0,
  "metadata": {
    "colab": {
      "provenance": [],
      "authorship_tag": "ABX9TyNIzYKzX1bmxA4/wIPaiwP8",
      "include_colab_link": true
    },
    "kernelspec": {
      "name": "python3",
      "display_name": "Python 3"
    },
    "language_info": {
      "name": "python"
    }
  },
  "cells": [
    {
      "cell_type": "markdown",
      "metadata": {
        "id": "view-in-github",
        "colab_type": "text"
      },
      "source": [
        "<a href=\"https://colab.research.google.com/github/Hansika0609/PYHTON_2.0/blob/Fundamentals/Comprehensions_with_conditionals.ipynb\" target=\"_parent\"><img src=\"https://colab.research.google.com/assets/colab-badge.svg\" alt=\"Open In Colab\"/></a>"
      ]
    },
    {
      "cell_type": "code",
      "execution_count": null,
      "metadata": {
        "colab": {
          "base_uri": "https://localhost:8080/"
        },
        "id": "sMI6Jl8X3u6W",
        "outputId": "8de44366-4e1b-48fd-8e26-7f9562b5177e"
      },
      "outputs": [
        {
          "output_type": "stream",
          "name": "stdout",
          "text": [
            "[35, 27, 21]\n"
          ]
        }
      ],
      "source": [
        "ages = [22, 35, 27, 21, 20]\n",
        "odds = [n for n in ages if n % 2 == 1]\n",
        "print(odds)"
      ]
    },
    {
      "cell_type": "code",
      "source": [
        "friends = [\"Rolf\", \"ruth\", \"charlie\", \"Jen\"]\n",
        "guests = [\"jose\", \"Bob\", \"Rolf\", \"Charlie\", \"michael\"]\n",
        "\n",
        "friends_lower = [f.lower() for f in friends]\n",
        "print(friends_lower)"
      ],
      "metadata": {
        "colab": {
          "base_uri": "https://localhost:8080/"
        },
        "id": "Saq5Bc_k4DvL",
        "outputId": "93b9d2ba-3ffb-43be-c928-e0101ca91b2e"
      },
      "execution_count": null,
      "outputs": [
        {
          "output_type": "stream",
          "name": "stdout",
          "text": [
            "['rolf', 'ruth', 'charlie', 'jen']\n"
          ]
        }
      ]
    },
    {
      "cell_type": "code",
      "source": [
        "friends = [\"Rolf\", \"ruth\", \"charlie\", \"Jen\"]\n",
        "guests = [\"jose\", \"Bob\", \"Rolf\", \"Charlie\", \"michael\"]\n",
        "\n",
        "friends_lower=set([f.lower() for f in friends])\n",
        "guests_lower=set([g.lower() for g in guests])\n",
        "\n",
        "print(friends_lower.intersection(guests_lower))"
      ],
      "metadata": {
        "colab": {
          "base_uri": "https://localhost:8080/"
        },
        "id": "n7TbVTiM4DwX",
        "outputId": "7fc97927-cb6b-4ade-9028-18bf7a1ade28"
      },
      "execution_count": null,
      "outputs": [
        {
          "output_type": "stream",
          "name": "stdout",
          "text": [
            "{'rolf', 'charlie'}\n"
          ]
        }
      ]
    },
    {
      "cell_type": "code",
      "source": [
        "friends = [\"Rolf\", \"ruth\", \"charlie\", \"Jen\"]\n",
        "guests = [\"jose\", \"Bob\", \"Rolf\", \"Charlie\", \"michael\"]\n",
        "\n",
        "friends_lower=set([f.lower() for f in friends])\n",
        "\n",
        "present_friends=[name.title() for name in guests if name.lower() in friends_lower]\n",
        "print(present_friends)\n"
      ],
      "metadata": {
        "colab": {
          "base_uri": "https://localhost:8080/"
        },
        "id": "lIFFvxn94D0V",
        "outputId": "fe48cff6-73ba-4e29-87bb-a6d86e636f7c"
      },
      "execution_count": null,
      "outputs": [
        {
          "output_type": "stream",
          "name": "stdout",
          "text": [
            "['Rolf', 'Charlie']\n"
          ]
        }
      ]
    },
    {
      "cell_type": "code",
      "source": [
        "present_friends = [\n",
        "    name.capitalize() \n",
        "    for name in guests \n",
        "    if name.lower() in [f.lower() for f in friends]\n",
        "]\n",
        "print(present_friends)\n"
      ],
      "metadata": {
        "colab": {
          "base_uri": "https://localhost:8080/"
        },
        "id": "VFxBV0q94D3H",
        "outputId": "c02d12ff-0b8d-44ca-fda4-35d3ca13e73f"
      },
      "execution_count": null,
      "outputs": [
        {
          "output_type": "stream",
          "name": "stdout",
          "text": [
            "['Rolf', 'Charlie']\n"
          ]
        }
      ]
    }
  ]
}