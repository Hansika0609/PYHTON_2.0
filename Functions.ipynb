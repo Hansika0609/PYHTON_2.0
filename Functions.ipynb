{
  "nbformat": 4,
  "nbformat_minor": 0,
  "metadata": {
    "colab": {
      "provenance": [],
      "authorship_tag": "ABX9TyP9n5o6iqr54v40H6R4tlMk",
      "include_colab_link": true
    },
    "kernelspec": {
      "name": "python3",
      "display_name": "Python 3"
    },
    "language_info": {
      "name": "python"
    }
  },
  "cells": [
    {
      "cell_type": "markdown",
      "metadata": {
        "id": "view-in-github",
        "colab_type": "text"
      },
      "source": [
        "<a href=\"https://colab.research.google.com/github/Hansika0609/PYHTON_2.0/blob/Fundamentals/Functions.ipynb\" target=\"_parent\"><img src=\"https://colab.research.google.com/assets/colab-badge.svg\" alt=\"Open In Colab\"/></a>"
      ]
    },
    {
      "cell_type": "code",
      "execution_count": 1,
      "metadata": {
        "colab": {
          "base_uri": "https://localhost:8080/"
        },
        "id": "DQdkfbTsBAy5",
        "outputId": "fd652c5d-6964-4af5-e3ef-8ce40532b5af"
      },
      "outputs": [
        {
          "output_type": "stream",
          "name": "stdout",
          "text": [
            "Enter your name: Hansika\n",
            "Hello, Hansika!\n"
          ]
        }
      ],
      "source": [
        "# So far we've been using functions such as `print`, `len`, and `zip`.\n",
        "# But we haven't learned how to create our own functions, or even how they really work.\n",
        "\n",
        "# Let's create our own function. The building blocks are:\n",
        "# def\n",
        "# the name\n",
        "# brackets\n",
        "# colon\n",
        "# any code you want, but it must be indented if you want it to run as part of the function.\n",
        "\n",
        "\n",
        "def greet():\n",
        "    name = input(\"Enter your name: \")\n",
        "    print(f\"Hello, {name}!\")\n",
        "\n",
        "\n",
        "# Running this does nothing, because although we have defined a function, we haven't executed it.\n",
        "# We must execute the function in order for its contents to run.\n",
        "\n",
        "greet()\n",
        "\n",
        "# You can put as much or as little code as you want inside a function, but prefer shorter functions over longer ones.\n",
        "# You'll usually be putting code that you want to reuse inside functions.\n",
        "\n"
      ]
    },
    {
      "cell_type": "code",
      "source": [
        "\n",
        "# Any variables declared inside the function are not accessible outside it.\n",
        "print(name)  # ERROR!"
      ],
      "metadata": {
        "id": "48v-Y0uzBsGu"
      },
      "execution_count": null,
      "outputs": []
    }
  ]
}