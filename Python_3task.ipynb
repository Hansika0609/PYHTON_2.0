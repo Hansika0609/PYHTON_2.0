{
  "nbformat": 4,
  "nbformat_minor": 0,
  "metadata": {
    "colab": {
      "provenance": [],
      "authorship_tag": "ABX9TyOtUaUOXF8BP5hOKqWvHx6W",
      "include_colab_link": true
    },
    "kernelspec": {
      "name": "python3",
      "display_name": "Python 3"
    },
    "language_info": {
      "name": "python"
    }
  },
  "cells": [
    {
      "cell_type": "markdown",
      "metadata": {
        "id": "view-in-github",
        "colab_type": "text"
      },
      "source": [
        "<a href=\"https://colab.research.google.com/github/Hansika0609/PYHTON_2.0/blob/Fundamentals/Python_3task.ipynb\" target=\"_parent\"><img src=\"https://colab.research.google.com/assets/colab-badge.svg\" alt=\"Open In Colab\"/></a>"
      ]
    },
    {
      "cell_type": "code",
      "execution_count": null,
      "metadata": {
        "id": "N7MpneSWDpgT"
      },
      "outputs": [],
      "source": [
        "import pandas as pd\n",
        "import matplotlib.pyplot as plt"
      ]
    },
    {
      "cell_type": "code",
      "source": [
        "#test.csv\n",
        "df_raw=pd.read_csv(\"Movie+Assignment+Data.csv\")\n",
        "df_raw.head()"
      ],
      "metadata": {
        "colab": {
          "base_uri": "https://localhost:8080/",
          "height": 352
        },
        "id": "dpQAtiqTDqIQ",
        "outputId": "4554237f-5500-4cc7-9ee9-0baef573fcfb"
      },
      "execution_count": null,
      "outputs": [
        {
          "output_type": "execute_result",
          "data": {
            "text/plain": [
              "                   Title  title_year     budget      Gross      actor_1_name  \\\n",
              "0             La La Land        2016   30000000  151101803      Ryan Gosling   \n",
              "1               Zootopia        2016  150000000  341268248  Ginnifer Goodwin   \n",
              "2                   Lion        2016   12000000   51738905         Dev Patel   \n",
              "3                Arrival        2016   47000000  100546139         Amy Adams   \n",
              "4  Manchester by the Sea        2016    9000000   47695371     Casey Affleck   \n",
              "\n",
              "         actor_2_name     actor_3_name  actor_1_facebook_likes  \\\n",
              "0          Emma Stone       Amiée Conn                   14000   \n",
              "1       Jason Bateman       Idris Elba                    2800   \n",
              "2       Nicole Kidman      Rooney Mara                   33000   \n",
              "3       Jeremy Renner  Forest Whitaker                   35000   \n",
              "4  Michelle Williams     Kyle Chandler                     518   \n",
              "\n",
              "   actor_2_facebook_likes  actor_3_facebook_likes  ...  Votes3044M Votes3044F  \\\n",
              "0                 19000.0                     NaN  ...         7.9        7.8   \n",
              "1                 28000.0                 27000.0  ...         7.8        8.1   \n",
              "2                 96000.0                  9800.0  ...         7.9        8.2   \n",
              "3                  5300.0                     NaN  ...         7.8        7.8   \n",
              "4                 71000.0                  3300.0  ...         7.7        7.7   \n",
              "\n",
              "  Votes45A Votes45AM  Votes45AF  Votes1000  VotesUS  VotesnUS  content_rating  \\\n",
              "0      7.6       7.6        7.5        7.1      8.3       8.1           PG-13   \n",
              "1      7.8       7.8        8.1        7.6      8.0       8.0              PG   \n",
              "2      8.0       7.9        8.4        7.1      8.1       8.0           PG-13   \n",
              "3      7.6       7.6        7.7        7.3      8.0       7.9           PG-13   \n",
              "4      7.6       7.6        7.6        7.1      7.9       7.8               R   \n",
              "\n",
              "     Country  \n",
              "0        USA  \n",
              "1        USA  \n",
              "2  Australia  \n",
              "3        USA  \n",
              "4        USA  \n",
              "\n",
              "[5 rows x 62 columns]"
            ],
            "text/html": [
              "\n",
              "  <div id=\"df-57df3d3a-67f7-4c50-9394-f1ca7c2eea0d\">\n",
              "    <div class=\"colab-df-container\">\n",
              "      <div>\n",
              "<style scoped>\n",
              "    .dataframe tbody tr th:only-of-type {\n",
              "        vertical-align: middle;\n",
              "    }\n",
              "\n",
              "    .dataframe tbody tr th {\n",
              "        vertical-align: top;\n",
              "    }\n",
              "\n",
              "    .dataframe thead th {\n",
              "        text-align: right;\n",
              "    }\n",
              "</style>\n",
              "<table border=\"1\" class=\"dataframe\">\n",
              "  <thead>\n",
              "    <tr style=\"text-align: right;\">\n",
              "      <th></th>\n",
              "      <th>Title</th>\n",
              "      <th>title_year</th>\n",
              "      <th>budget</th>\n",
              "      <th>Gross</th>\n",
              "      <th>actor_1_name</th>\n",
              "      <th>actor_2_name</th>\n",
              "      <th>actor_3_name</th>\n",
              "      <th>actor_1_facebook_likes</th>\n",
              "      <th>actor_2_facebook_likes</th>\n",
              "      <th>actor_3_facebook_likes</th>\n",
              "      <th>...</th>\n",
              "      <th>Votes3044M</th>\n",
              "      <th>Votes3044F</th>\n",
              "      <th>Votes45A</th>\n",
              "      <th>Votes45AM</th>\n",
              "      <th>Votes45AF</th>\n",
              "      <th>Votes1000</th>\n",
              "      <th>VotesUS</th>\n",
              "      <th>VotesnUS</th>\n",
              "      <th>content_rating</th>\n",
              "      <th>Country</th>\n",
              "    </tr>\n",
              "  </thead>\n",
              "  <tbody>\n",
              "    <tr>\n",
              "      <th>0</th>\n",
              "      <td>La La Land</td>\n",
              "      <td>2016</td>\n",
              "      <td>30000000</td>\n",
              "      <td>151101803</td>\n",
              "      <td>Ryan Gosling</td>\n",
              "      <td>Emma Stone</td>\n",
              "      <td>Amiée Conn</td>\n",
              "      <td>14000</td>\n",
              "      <td>19000.0</td>\n",
              "      <td>NaN</td>\n",
              "      <td>...</td>\n",
              "      <td>7.9</td>\n",
              "      <td>7.8</td>\n",
              "      <td>7.6</td>\n",
              "      <td>7.6</td>\n",
              "      <td>7.5</td>\n",
              "      <td>7.1</td>\n",
              "      <td>8.3</td>\n",
              "      <td>8.1</td>\n",
              "      <td>PG-13</td>\n",
              "      <td>USA</td>\n",
              "    </tr>\n",
              "    <tr>\n",
              "      <th>1</th>\n",
              "      <td>Zootopia</td>\n",
              "      <td>2016</td>\n",
              "      <td>150000000</td>\n",
              "      <td>341268248</td>\n",
              "      <td>Ginnifer Goodwin</td>\n",
              "      <td>Jason Bateman</td>\n",
              "      <td>Idris Elba</td>\n",
              "      <td>2800</td>\n",
              "      <td>28000.0</td>\n",
              "      <td>27000.0</td>\n",
              "      <td>...</td>\n",
              "      <td>7.8</td>\n",
              "      <td>8.1</td>\n",
              "      <td>7.8</td>\n",
              "      <td>7.8</td>\n",
              "      <td>8.1</td>\n",
              "      <td>7.6</td>\n",
              "      <td>8.0</td>\n",
              "      <td>8.0</td>\n",
              "      <td>PG</td>\n",
              "      <td>USA</td>\n",
              "    </tr>\n",
              "    <tr>\n",
              "      <th>2</th>\n",
              "      <td>Lion</td>\n",
              "      <td>2016</td>\n",
              "      <td>12000000</td>\n",
              "      <td>51738905</td>\n",
              "      <td>Dev Patel</td>\n",
              "      <td>Nicole Kidman</td>\n",
              "      <td>Rooney Mara</td>\n",
              "      <td>33000</td>\n",
              "      <td>96000.0</td>\n",
              "      <td>9800.0</td>\n",
              "      <td>...</td>\n",
              "      <td>7.9</td>\n",
              "      <td>8.2</td>\n",
              "      <td>8.0</td>\n",
              "      <td>7.9</td>\n",
              "      <td>8.4</td>\n",
              "      <td>7.1</td>\n",
              "      <td>8.1</td>\n",
              "      <td>8.0</td>\n",
              "      <td>PG-13</td>\n",
              "      <td>Australia</td>\n",
              "    </tr>\n",
              "    <tr>\n",
              "      <th>3</th>\n",
              "      <td>Arrival</td>\n",
              "      <td>2016</td>\n",
              "      <td>47000000</td>\n",
              "      <td>100546139</td>\n",
              "      <td>Amy Adams</td>\n",
              "      <td>Jeremy Renner</td>\n",
              "      <td>Forest Whitaker</td>\n",
              "      <td>35000</td>\n",
              "      <td>5300.0</td>\n",
              "      <td>NaN</td>\n",
              "      <td>...</td>\n",
              "      <td>7.8</td>\n",
              "      <td>7.8</td>\n",
              "      <td>7.6</td>\n",
              "      <td>7.6</td>\n",
              "      <td>7.7</td>\n",
              "      <td>7.3</td>\n",
              "      <td>8.0</td>\n",
              "      <td>7.9</td>\n",
              "      <td>PG-13</td>\n",
              "      <td>USA</td>\n",
              "    </tr>\n",
              "    <tr>\n",
              "      <th>4</th>\n",
              "      <td>Manchester by the Sea</td>\n",
              "      <td>2016</td>\n",
              "      <td>9000000</td>\n",
              "      <td>47695371</td>\n",
              "      <td>Casey Affleck</td>\n",
              "      <td>Michelle Williams</td>\n",
              "      <td>Kyle Chandler</td>\n",
              "      <td>518</td>\n",
              "      <td>71000.0</td>\n",
              "      <td>3300.0</td>\n",
              "      <td>...</td>\n",
              "      <td>7.7</td>\n",
              "      <td>7.7</td>\n",
              "      <td>7.6</td>\n",
              "      <td>7.6</td>\n",
              "      <td>7.6</td>\n",
              "      <td>7.1</td>\n",
              "      <td>7.9</td>\n",
              "      <td>7.8</td>\n",
              "      <td>R</td>\n",
              "      <td>USA</td>\n",
              "    </tr>\n",
              "  </tbody>\n",
              "</table>\n",
              "<p>5 rows × 62 columns</p>\n",
              "</div>\n",
              "      <button class=\"colab-df-convert\" onclick=\"convertToInteractive('df-57df3d3a-67f7-4c50-9394-f1ca7c2eea0d')\"\n",
              "              title=\"Convert this dataframe to an interactive table.\"\n",
              "              style=\"display:none;\">\n",
              "        \n",
              "  <svg xmlns=\"http://www.w3.org/2000/svg\" height=\"24px\"viewBox=\"0 0 24 24\"\n",
              "       width=\"24px\">\n",
              "    <path d=\"M0 0h24v24H0V0z\" fill=\"none\"/>\n",
              "    <path d=\"M18.56 5.44l.94 2.06.94-2.06 2.06-.94-2.06-.94-.94-2.06-.94 2.06-2.06.94zm-11 1L8.5 8.5l.94-2.06 2.06-.94-2.06-.94L8.5 2.5l-.94 2.06-2.06.94zm10 10l.94 2.06.94-2.06 2.06-.94-2.06-.94-.94-2.06-.94 2.06-2.06.94z\"/><path d=\"M17.41 7.96l-1.37-1.37c-.4-.4-.92-.59-1.43-.59-.52 0-1.04.2-1.43.59L10.3 9.45l-7.72 7.72c-.78.78-.78 2.05 0 2.83L4 21.41c.39.39.9.59 1.41.59.51 0 1.02-.2 1.41-.59l7.78-7.78 2.81-2.81c.8-.78.8-2.07 0-2.86zM5.41 20L4 18.59l7.72-7.72 1.47 1.35L5.41 20z\"/>\n",
              "  </svg>\n",
              "      </button>\n",
              "      \n",
              "  <style>\n",
              "    .colab-df-container {\n",
              "      display:flex;\n",
              "      flex-wrap:wrap;\n",
              "      gap: 12px;\n",
              "    }\n",
              "\n",
              "    .colab-df-convert {\n",
              "      background-color: #E8F0FE;\n",
              "      border: none;\n",
              "      border-radius: 50%;\n",
              "      cursor: pointer;\n",
              "      display: none;\n",
              "      fill: #1967D2;\n",
              "      height: 32px;\n",
              "      padding: 0 0 0 0;\n",
              "      width: 32px;\n",
              "    }\n",
              "\n",
              "    .colab-df-convert:hover {\n",
              "      background-color: #E2EBFA;\n",
              "      box-shadow: 0px 1px 2px rgba(60, 64, 67, 0.3), 0px 1px 3px 1px rgba(60, 64, 67, 0.15);\n",
              "      fill: #174EA6;\n",
              "    }\n",
              "\n",
              "    [theme=dark] .colab-df-convert {\n",
              "      background-color: #3B4455;\n",
              "      fill: #D2E3FC;\n",
              "    }\n",
              "\n",
              "    [theme=dark] .colab-df-convert:hover {\n",
              "      background-color: #434B5C;\n",
              "      box-shadow: 0px 1px 3px 1px rgba(0, 0, 0, 0.15);\n",
              "      filter: drop-shadow(0px 1px 2px rgba(0, 0, 0, 0.3));\n",
              "      fill: #FFFFFF;\n",
              "    }\n",
              "  </style>\n",
              "\n",
              "      <script>\n",
              "        const buttonEl =\n",
              "          document.querySelector('#df-57df3d3a-67f7-4c50-9394-f1ca7c2eea0d button.colab-df-convert');\n",
              "        buttonEl.style.display =\n",
              "          google.colab.kernel.accessAllowed ? 'block' : 'none';\n",
              "\n",
              "        async function convertToInteractive(key) {\n",
              "          const element = document.querySelector('#df-57df3d3a-67f7-4c50-9394-f1ca7c2eea0d');\n",
              "          const dataTable =\n",
              "            await google.colab.kernel.invokeFunction('convertToInteractive',\n",
              "                                                     [key], {});\n",
              "          if (!dataTable) return;\n",
              "\n",
              "          const docLinkHtml = 'Like what you see? Visit the ' +\n",
              "            '<a target=\"_blank\" href=https://colab.research.google.com/notebooks/data_table.ipynb>data table notebook</a>'\n",
              "            + ' to learn more about interactive tables.';\n",
              "          element.innerHTML = '';\n",
              "          dataTable['output_type'] = 'display_data';\n",
              "          await google.colab.output.renderOutput(dataTable, element);\n",
              "          const docLink = document.createElement('div');\n",
              "          docLink.innerHTML = docLinkHtml;\n",
              "          element.appendChild(docLink);\n",
              "        }\n",
              "      </script>\n",
              "    </div>\n",
              "  </div>\n",
              "  "
            ]
          },
          "metadata": {},
          "execution_count": 16
        }
      ]
    },
    {
      "cell_type": "code",
      "source": [
        "#check the shape of the dataframe\n",
        "df_raw.shape"
      ],
      "metadata": {
        "colab": {
          "base_uri": "https://localhost:8080/"
        },
        "id": "VaecxSafDqKB",
        "outputId": "60b085c4-170b-45ee-8b86-e61c0286d58a"
      },
      "execution_count": null,
      "outputs": [
        {
          "output_type": "execute_result",
          "data": {
            "text/plain": [
              "(100, 62)"
            ]
          },
          "metadata": {},
          "execution_count": 17
        }
      ]
    },
    {
      "cell_type": "code",
      "source": [
        "#descriptive stats\n",
        "df_raw.describe()"
      ],
      "metadata": {
        "colab": {
          "base_uri": "https://localhost:8080/",
          "height": 394
        },
        "id": "Xdlx8O-3DqNt",
        "outputId": "5b492859-3ac3-4910-895d-df383e563e4d"
      },
      "execution_count": null,
      "outputs": [
        {
          "output_type": "execute_result",
          "data": {
            "text/plain": [
              "        title_year        budget         Gross  actor_1_facebook_likes  \\\n",
              "count   100.000000  1.000000e+02  1.000000e+02              100.000000   \n",
              "mean   2012.820000  7.838400e+07  1.468679e+08            13407.270000   \n",
              "std       1.919491  7.445295e+07  1.454004e+08            10649.037862   \n",
              "min    2010.000000  3.000000e+06  2.238380e+05               39.000000   \n",
              "25%    2011.000000  1.575000e+07  4.199752e+07             1000.000000   \n",
              "50%    2013.000000  4.225000e+07  1.070266e+08            13000.000000   \n",
              "75%    2014.000000  1.500000e+08  2.107548e+08            20000.000000   \n",
              "max    2016.000000  2.600000e+08  9.366622e+08            35000.000000   \n",
              "\n",
              "       actor_2_facebook_likes  actor_3_facebook_likes  IMDb_rating  \\\n",
              "count               99.000000               98.000000   100.000000   \n",
              "mean              7377.303030             3002.153061     7.883000   \n",
              "std              13471.568216             6940.301133     0.247433   \n",
              "min                 12.000000                0.000000     7.500000   \n",
              "25%                580.000000              319.750000     7.700000   \n",
              "50%               1000.000000              626.500000     7.800000   \n",
              "75%              11000.000000             1000.000000     8.100000   \n",
              "max              96000.000000            46000.000000     8.800000   \n",
              "\n",
              "       MetaCritic     Runtime       CVotes10  ...  Votes1829F   Votes3044  \\\n",
              "count   95.000000  100.000000     100.000000  ...  100.000000  100.000000   \n",
              "mean    78.252632  126.420000   73212.160000  ...    7.982000    7.732000   \n",
              "std      9.122066   19.050799   82669.594746  ...    0.321417    0.251814   \n",
              "min     62.000000   91.000000    6420.000000  ...    7.300000    7.300000   \n",
              "25%     72.000000  114.750000   30587.000000  ...    7.700000    7.600000   \n",
              "50%     78.000000  124.000000   54900.500000  ...    8.000000    7.700000   \n",
              "75%     83.500000  136.250000   80639.000000  ...    8.200000    7.900000   \n",
              "max    100.000000  180.000000  584839.000000  ...    8.800000    8.700000   \n",
              "\n",
              "       Votes3044M  Votes3044F   Votes45A   Votes45AM   Votes45AF   Votes1000  \\\n",
              "count  100.000000  100.000000  100.00000  100.000000  100.000000  100.000000   \n",
              "mean     7.723000    7.780000    7.65100    7.624000    7.770000    7.274000   \n",
              "std      0.260479    0.282128    0.21485    0.213258    0.301344    0.361987   \n",
              "min      7.200000    7.200000    7.10000    7.100000    7.000000    6.400000   \n",
              "25%      7.500000    7.600000    7.50000    7.475000    7.500000    7.100000   \n",
              "50%      7.700000    7.800000    7.65000    7.600000    7.800000    7.300000   \n",
              "75%      7.900000    8.000000    7.80000    7.800000    7.925000    7.500000   \n",
              "max      8.700000    8.500000    8.10000    8.100000    8.500000    8.200000   \n",
              "\n",
              "          VotesUS    VotesnUS  \n",
              "count  100.000000  100.000000  \n",
              "mean     7.958000    7.793000  \n",
              "std      0.232327    0.264099  \n",
              "min      7.500000    7.300000  \n",
              "25%      7.800000    7.600000  \n",
              "50%      7.950000    7.750000  \n",
              "75%      8.100000    7.925000  \n",
              "max      8.700000    8.800000  \n",
              "\n",
              "[8 rows x 53 columns]"
            ],
            "text/html": [
              "\n",
              "  <div id=\"df-11b00ce5-5aea-4ef9-9502-5cfe589c9599\">\n",
              "    <div class=\"colab-df-container\">\n",
              "      <div>\n",
              "<style scoped>\n",
              "    .dataframe tbody tr th:only-of-type {\n",
              "        vertical-align: middle;\n",
              "    }\n",
              "\n",
              "    .dataframe tbody tr th {\n",
              "        vertical-align: top;\n",
              "    }\n",
              "\n",
              "    .dataframe thead th {\n",
              "        text-align: right;\n",
              "    }\n",
              "</style>\n",
              "<table border=\"1\" class=\"dataframe\">\n",
              "  <thead>\n",
              "    <tr style=\"text-align: right;\">\n",
              "      <th></th>\n",
              "      <th>title_year</th>\n",
              "      <th>budget</th>\n",
              "      <th>Gross</th>\n",
              "      <th>actor_1_facebook_likes</th>\n",
              "      <th>actor_2_facebook_likes</th>\n",
              "      <th>actor_3_facebook_likes</th>\n",
              "      <th>IMDb_rating</th>\n",
              "      <th>MetaCritic</th>\n",
              "      <th>Runtime</th>\n",
              "      <th>CVotes10</th>\n",
              "      <th>...</th>\n",
              "      <th>Votes1829F</th>\n",
              "      <th>Votes3044</th>\n",
              "      <th>Votes3044M</th>\n",
              "      <th>Votes3044F</th>\n",
              "      <th>Votes45A</th>\n",
              "      <th>Votes45AM</th>\n",
              "      <th>Votes45AF</th>\n",
              "      <th>Votes1000</th>\n",
              "      <th>VotesUS</th>\n",
              "      <th>VotesnUS</th>\n",
              "    </tr>\n",
              "  </thead>\n",
              "  <tbody>\n",
              "    <tr>\n",
              "      <th>count</th>\n",
              "      <td>100.000000</td>\n",
              "      <td>1.000000e+02</td>\n",
              "      <td>1.000000e+02</td>\n",
              "      <td>100.000000</td>\n",
              "      <td>99.000000</td>\n",
              "      <td>98.000000</td>\n",
              "      <td>100.000000</td>\n",
              "      <td>95.000000</td>\n",
              "      <td>100.000000</td>\n",
              "      <td>100.000000</td>\n",
              "      <td>...</td>\n",
              "      <td>100.000000</td>\n",
              "      <td>100.000000</td>\n",
              "      <td>100.000000</td>\n",
              "      <td>100.000000</td>\n",
              "      <td>100.00000</td>\n",
              "      <td>100.000000</td>\n",
              "      <td>100.000000</td>\n",
              "      <td>100.000000</td>\n",
              "      <td>100.000000</td>\n",
              "      <td>100.000000</td>\n",
              "    </tr>\n",
              "    <tr>\n",
              "      <th>mean</th>\n",
              "      <td>2012.820000</td>\n",
              "      <td>7.838400e+07</td>\n",
              "      <td>1.468679e+08</td>\n",
              "      <td>13407.270000</td>\n",
              "      <td>7377.303030</td>\n",
              "      <td>3002.153061</td>\n",
              "      <td>7.883000</td>\n",
              "      <td>78.252632</td>\n",
              "      <td>126.420000</td>\n",
              "      <td>73212.160000</td>\n",
              "      <td>...</td>\n",
              "      <td>7.982000</td>\n",
              "      <td>7.732000</td>\n",
              "      <td>7.723000</td>\n",
              "      <td>7.780000</td>\n",
              "      <td>7.65100</td>\n",
              "      <td>7.624000</td>\n",
              "      <td>7.770000</td>\n",
              "      <td>7.274000</td>\n",
              "      <td>7.958000</td>\n",
              "      <td>7.793000</td>\n",
              "    </tr>\n",
              "    <tr>\n",
              "      <th>std</th>\n",
              "      <td>1.919491</td>\n",
              "      <td>7.445295e+07</td>\n",
              "      <td>1.454004e+08</td>\n",
              "      <td>10649.037862</td>\n",
              "      <td>13471.568216</td>\n",
              "      <td>6940.301133</td>\n",
              "      <td>0.247433</td>\n",
              "      <td>9.122066</td>\n",
              "      <td>19.050799</td>\n",
              "      <td>82669.594746</td>\n",
              "      <td>...</td>\n",
              "      <td>0.321417</td>\n",
              "      <td>0.251814</td>\n",
              "      <td>0.260479</td>\n",
              "      <td>0.282128</td>\n",
              "      <td>0.21485</td>\n",
              "      <td>0.213258</td>\n",
              "      <td>0.301344</td>\n",
              "      <td>0.361987</td>\n",
              "      <td>0.232327</td>\n",
              "      <td>0.264099</td>\n",
              "    </tr>\n",
              "    <tr>\n",
              "      <th>min</th>\n",
              "      <td>2010.000000</td>\n",
              "      <td>3.000000e+06</td>\n",
              "      <td>2.238380e+05</td>\n",
              "      <td>39.000000</td>\n",
              "      <td>12.000000</td>\n",
              "      <td>0.000000</td>\n",
              "      <td>7.500000</td>\n",
              "      <td>62.000000</td>\n",
              "      <td>91.000000</td>\n",
              "      <td>6420.000000</td>\n",
              "      <td>...</td>\n",
              "      <td>7.300000</td>\n",
              "      <td>7.300000</td>\n",
              "      <td>7.200000</td>\n",
              "      <td>7.200000</td>\n",
              "      <td>7.10000</td>\n",
              "      <td>7.100000</td>\n",
              "      <td>7.000000</td>\n",
              "      <td>6.400000</td>\n",
              "      <td>7.500000</td>\n",
              "      <td>7.300000</td>\n",
              "    </tr>\n",
              "    <tr>\n",
              "      <th>25%</th>\n",
              "      <td>2011.000000</td>\n",
              "      <td>1.575000e+07</td>\n",
              "      <td>4.199752e+07</td>\n",
              "      <td>1000.000000</td>\n",
              "      <td>580.000000</td>\n",
              "      <td>319.750000</td>\n",
              "      <td>7.700000</td>\n",
              "      <td>72.000000</td>\n",
              "      <td>114.750000</td>\n",
              "      <td>30587.000000</td>\n",
              "      <td>...</td>\n",
              "      <td>7.700000</td>\n",
              "      <td>7.600000</td>\n",
              "      <td>7.500000</td>\n",
              "      <td>7.600000</td>\n",
              "      <td>7.50000</td>\n",
              "      <td>7.475000</td>\n",
              "      <td>7.500000</td>\n",
              "      <td>7.100000</td>\n",
              "      <td>7.800000</td>\n",
              "      <td>7.600000</td>\n",
              "    </tr>\n",
              "    <tr>\n",
              "      <th>50%</th>\n",
              "      <td>2013.000000</td>\n",
              "      <td>4.225000e+07</td>\n",
              "      <td>1.070266e+08</td>\n",
              "      <td>13000.000000</td>\n",
              "      <td>1000.000000</td>\n",
              "      <td>626.500000</td>\n",
              "      <td>7.800000</td>\n",
              "      <td>78.000000</td>\n",
              "      <td>124.000000</td>\n",
              "      <td>54900.500000</td>\n",
              "      <td>...</td>\n",
              "      <td>8.000000</td>\n",
              "      <td>7.700000</td>\n",
              "      <td>7.700000</td>\n",
              "      <td>7.800000</td>\n",
              "      <td>7.65000</td>\n",
              "      <td>7.600000</td>\n",
              "      <td>7.800000</td>\n",
              "      <td>7.300000</td>\n",
              "      <td>7.950000</td>\n",
              "      <td>7.750000</td>\n",
              "    </tr>\n",
              "    <tr>\n",
              "      <th>75%</th>\n",
              "      <td>2014.000000</td>\n",
              "      <td>1.500000e+08</td>\n",
              "      <td>2.107548e+08</td>\n",
              "      <td>20000.000000</td>\n",
              "      <td>11000.000000</td>\n",
              "      <td>1000.000000</td>\n",
              "      <td>8.100000</td>\n",
              "      <td>83.500000</td>\n",
              "      <td>136.250000</td>\n",
              "      <td>80639.000000</td>\n",
              "      <td>...</td>\n",
              "      <td>8.200000</td>\n",
              "      <td>7.900000</td>\n",
              "      <td>7.900000</td>\n",
              "      <td>8.000000</td>\n",
              "      <td>7.80000</td>\n",
              "      <td>7.800000</td>\n",
              "      <td>7.925000</td>\n",
              "      <td>7.500000</td>\n",
              "      <td>8.100000</td>\n",
              "      <td>7.925000</td>\n",
              "    </tr>\n",
              "    <tr>\n",
              "      <th>max</th>\n",
              "      <td>2016.000000</td>\n",
              "      <td>2.600000e+08</td>\n",
              "      <td>9.366622e+08</td>\n",
              "      <td>35000.000000</td>\n",
              "      <td>96000.000000</td>\n",
              "      <td>46000.000000</td>\n",
              "      <td>8.800000</td>\n",
              "      <td>100.000000</td>\n",
              "      <td>180.000000</td>\n",
              "      <td>584839.000000</td>\n",
              "      <td>...</td>\n",
              "      <td>8.800000</td>\n",
              "      <td>8.700000</td>\n",
              "      <td>8.700000</td>\n",
              "      <td>8.500000</td>\n",
              "      <td>8.10000</td>\n",
              "      <td>8.100000</td>\n",
              "      <td>8.500000</td>\n",
              "      <td>8.200000</td>\n",
              "      <td>8.700000</td>\n",
              "      <td>8.800000</td>\n",
              "    </tr>\n",
              "  </tbody>\n",
              "</table>\n",
              "<p>8 rows × 53 columns</p>\n",
              "</div>\n",
              "      <button class=\"colab-df-convert\" onclick=\"convertToInteractive('df-11b00ce5-5aea-4ef9-9502-5cfe589c9599')\"\n",
              "              title=\"Convert this dataframe to an interactive table.\"\n",
              "              style=\"display:none;\">\n",
              "        \n",
              "  <svg xmlns=\"http://www.w3.org/2000/svg\" height=\"24px\"viewBox=\"0 0 24 24\"\n",
              "       width=\"24px\">\n",
              "    <path d=\"M0 0h24v24H0V0z\" fill=\"none\"/>\n",
              "    <path d=\"M18.56 5.44l.94 2.06.94-2.06 2.06-.94-2.06-.94-.94-2.06-.94 2.06-2.06.94zm-11 1L8.5 8.5l.94-2.06 2.06-.94-2.06-.94L8.5 2.5l-.94 2.06-2.06.94zm10 10l.94 2.06.94-2.06 2.06-.94-2.06-.94-.94-2.06-.94 2.06-2.06.94z\"/><path d=\"M17.41 7.96l-1.37-1.37c-.4-.4-.92-.59-1.43-.59-.52 0-1.04.2-1.43.59L10.3 9.45l-7.72 7.72c-.78.78-.78 2.05 0 2.83L4 21.41c.39.39.9.59 1.41.59.51 0 1.02-.2 1.41-.59l7.78-7.78 2.81-2.81c.8-.78.8-2.07 0-2.86zM5.41 20L4 18.59l7.72-7.72 1.47 1.35L5.41 20z\"/>\n",
              "  </svg>\n",
              "      </button>\n",
              "      \n",
              "  <style>\n",
              "    .colab-df-container {\n",
              "      display:flex;\n",
              "      flex-wrap:wrap;\n",
              "      gap: 12px;\n",
              "    }\n",
              "\n",
              "    .colab-df-convert {\n",
              "      background-color: #E8F0FE;\n",
              "      border: none;\n",
              "      border-radius: 50%;\n",
              "      cursor: pointer;\n",
              "      display: none;\n",
              "      fill: #1967D2;\n",
              "      height: 32px;\n",
              "      padding: 0 0 0 0;\n",
              "      width: 32px;\n",
              "    }\n",
              "\n",
              "    .colab-df-convert:hover {\n",
              "      background-color: #E2EBFA;\n",
              "      box-shadow: 0px 1px 2px rgba(60, 64, 67, 0.3), 0px 1px 3px 1px rgba(60, 64, 67, 0.15);\n",
              "      fill: #174EA6;\n",
              "    }\n",
              "\n",
              "    [theme=dark] .colab-df-convert {\n",
              "      background-color: #3B4455;\n",
              "      fill: #D2E3FC;\n",
              "    }\n",
              "\n",
              "    [theme=dark] .colab-df-convert:hover {\n",
              "      background-color: #434B5C;\n",
              "      box-shadow: 0px 1px 3px 1px rgba(0, 0, 0, 0.15);\n",
              "      filter: drop-shadow(0px 1px 2px rgba(0, 0, 0, 0.3));\n",
              "      fill: #FFFFFF;\n",
              "    }\n",
              "  </style>\n",
              "\n",
              "      <script>\n",
              "        const buttonEl =\n",
              "          document.querySelector('#df-11b00ce5-5aea-4ef9-9502-5cfe589c9599 button.colab-df-convert');\n",
              "        buttonEl.style.display =\n",
              "          google.colab.kernel.accessAllowed ? 'block' : 'none';\n",
              "\n",
              "        async function convertToInteractive(key) {\n",
              "          const element = document.querySelector('#df-11b00ce5-5aea-4ef9-9502-5cfe589c9599');\n",
              "          const dataTable =\n",
              "            await google.colab.kernel.invokeFunction('convertToInteractive',\n",
              "                                                     [key], {});\n",
              "          if (!dataTable) return;\n",
              "\n",
              "          const docLinkHtml = 'Like what you see? Visit the ' +\n",
              "            '<a target=\"_blank\" href=https://colab.research.google.com/notebooks/data_table.ipynb>data table notebook</a>'\n",
              "            + ' to learn more about interactive tables.';\n",
              "          element.innerHTML = '';\n",
              "          dataTable['output_type'] = 'display_data';\n",
              "          await google.colab.output.renderOutput(dataTable, element);\n",
              "          const docLink = document.createElement('div');\n",
              "          docLink.innerHTML = docLinkHtml;\n",
              "          element.appendChild(docLink);\n",
              "        }\n",
              "      </script>\n",
              "    </div>\n",
              "  </div>\n",
              "  "
            ]
          },
          "metadata": {},
          "execution_count": 18
        }
      ]
    },
    {
      "cell_type": "code",
      "source": [
        "#define a function called \"plot_boxplot\"\n",
        "def plot_boxplot(df, ft):\n",
        "  df.boxplot(column=[ft])\n",
        "  plt.grid(False)\n",
        "  plt.show()"
      ],
      "metadata": {
        "id": "75fP4ez-DqPR"
      },
      "execution_count": null,
      "outputs": []
    },
    {
      "cell_type": "code",
      "source": [
        "plot_boxplot(df_raw, \"budget\")"
      ],
      "metadata": {
        "colab": {
          "base_uri": "https://localhost:8080/",
          "height": 276
        },
        "id": "4e7v4KTKDqS2",
        "outputId": "c1769dcc-132f-4cf0-908d-9c0613080d5f"
      },
      "execution_count": null,
      "outputs": [
        {
          "output_type": "display_data",
          "data": {
            "text/plain": [
              "<Figure size 432x288 with 1 Axes>"
            ],
            "image/png": "[encoded data removed]"
          },
          "metadata": {
            "needs_background": "light"
          }
        }
      ]
    },
    {
      "cell_type": "code",
      "source": [
        "plot_boxplot(df_raw, \"Gross\")"
      ],
      "metadata": {
        "colab": {
          "base_uri": "https://localhost:8080/",
          "height": 276
        },
        "id": "ls146P4-DqUs",
        "outputId": "0b36fff8-d0b6-45ac-dfc5-a994fe9a517b"
      },
      "execution_count": null,
      "outputs": [
        {
          "output_type": "display_data",
          "data": {
            "text/plain": [
              "<Figure size 432x288 with 1 Axes>"
            ],
            "image/png": "[encoded data removed]"
          },
          "metadata": {
            "needs_background": "light"
          }
        }
      ]
    },
    {
      "cell_type": "code",
      "source": [
        "plot_boxplot(df_raw, \"CVotes10\")"
      ],
      "metadata": {
        "colab": {
          "base_uri": "https://localhost:8080/",
          "height": 265
        },
        "id": "q3QqTIzODqYM",
        "outputId": "727e4388-d9fa-4b13-80f0-0c9d9aaff77c"
      },
      "execution_count": null,
      "outputs": [
        {
          "output_type": "display_data",
          "data": {
            "text/plain": [
              "<Figure size 432x288 with 1 Axes>"
            ],
            "image/png": "[encoded data removed]"
          },
          "metadata": {
            "needs_background": "light"
          }
        }
      ]
    },
    {
      "cell_type": "code",
      "source": [
        "plot_boxplot(df_raw, \"CVotes01\")"
      ],
      "metadata": {
        "colab": {
          "base_uri": "https://localhost:8080/",
          "height": 265
        },
        "id": "Dj1953_vDqZ5",
        "outputId": "e779a1b3-4f45-44b0-be67-2f0d280f949a"
      },
      "execution_count": null,
      "outputs": [
        {
          "output_type": "display_data",
          "data": {
            "text/plain": [
              "<Figure size 432x288 with 1 Axes>"
            ],
            "image/png": "[encoded data removed]"
          },
          "metadata": {
            "needs_background": "light"
          }
        }
      ]
    },
    {
      "cell_type": "code",
      "source": [
        "plot_boxplot(df_raw, \"CVotes01\")"
      ],
      "metadata": {
        "colab": {
          "base_uri": "https://localhost:8080/",
          "height": 265
        },
        "id": "1fjK2BGUDqdu",
        "outputId": "2a851349-6136-42c2-c97d-8bb17342e122"
      },
      "execution_count": null,
      "outputs": [
        {
          "output_type": "display_data",
          "data": {
            "text/plain": [
              "<Figure size 432x288 with 1 Axes>"
            ],
            "image/png": "[encoded data removed]"
          },
          "metadata": {
            "needs_background": "light"
          }
        }
      ]
    },
    {
      "cell_type": "code",
      "source": [
        "plot_boxplot(df_raw, \"CVotes02\")"
      ],
      "metadata": {
        "colab": {
          "base_uri": "https://localhost:8080/",
          "height": 268
        },
        "id": "BzmmiXgzDqfG",
        "outputId": "f0735a5b-cbfe-405a-aa3a-826bbb367fc3"
      },
      "execution_count": null,
      "outputs": [
        {
          "output_type": "display_data",
          "data": {
            "text/plain": [
              "<Figure size 432x288 with 1 Axes>"
            ],
            "image/png": "[encoded data removed]"
          },
          "metadata": {
            "needs_background": "light"
          }
        }
      ]
    },
    {
      "cell_type": "code",
      "source": [
        "plot_boxplot(df_raw, \"CVotes03\")"
      ],
      "metadata": {
        "colab": {
          "base_uri": "https://localhost:8080/",
          "height": 265
        },
        "id": "-ubtM5kRDqjR",
        "outputId": "004b70ee-df1e-4780-b0a2-fc379030d7bb"
      },
      "execution_count": null,
      "outputs": [
        {
          "output_type": "display_data",
          "data": {
            "text/plain": [
              "<Figure size 432x288 with 1 Axes>"
            ],
            "image/png": "[encoded data removed]"
          },
          "metadata": {
            "needs_background": "light"
          }
        }
      ]
    },
    {
      "cell_type": "code",
      "source": [
        "plot_boxplot(df_raw, \"CVotes04\")"
      ],
      "metadata": {
        "colab": {
          "base_uri": "https://localhost:8080/",
          "height": 265
        },
        "id": "xiXegsBYDqk3",
        "outputId": "59eee8ce-fc74-4dda-eada-f430148781a8"
      },
      "execution_count": null,
      "outputs": [
        {
          "output_type": "display_data",
          "data": {
            "text/plain": [
              "<Figure size 432x288 with 1 Axes>"
            ],
            "image/png": "[encoded data removed]"
          },
          "metadata": {
            "needs_background": "light"
          }
        }
      ]
    },
    {
      "cell_type": "code",
      "source": [
        "plot_boxplot(df_raw, \"CVotes05\")"
      ],
      "metadata": {
        "colab": {
          "base_uri": "https://localhost:8080/",
          "height": 265
        },
        "id": "K9GVhHsTEPH-",
        "outputId": "13adab8b-b92b-48f1-acf3-a834c31c344e"
      },
      "execution_count": null,
      "outputs": [
        {
          "output_type": "display_data",
          "data": {
            "text/plain": [
              "<Figure size 432x288 with 1 Axes>"
            ],
            "image/png": "[encoded data removed]"
          },
          "metadata": {
            "needs_background": "light"
          }
        }
      ]
    },
    {
      "cell_type": "code",
      "source": [
        "plot_boxplot(df_raw, \"CVotes06\")"
      ],
      "metadata": {
        "colab": {
          "base_uri": "https://localhost:8080/",
          "height": 267
        },
        "id": "wMmroT9hEPJt",
        "outputId": "6276c39e-eb9f-4c55-9f88-923cfd1bb850"
      },
      "execution_count": null,
      "outputs": [
        {
          "output_type": "display_data",
          "data": {
            "text/plain": [
              "<Figure size 432x288 with 1 Axes>"
            ],
            "image/png": "[encoded data removed]"
          },
          "metadata": {
            "needs_background": "light"
          }
        }
      ]
    },
    {
      "cell_type": "code",
      "source": [
        "plot_boxplot(df_raw, \"CVotes07\")"
      ],
      "metadata": {
        "colab": {
          "base_uri": "https://localhost:8080/",
          "height": 265
        },
        "id": "DUC06P76EPNh",
        "outputId": "923ad440-8fba-48c9-dce3-6e8fc737ad2b"
      },
      "execution_count": null,
      "outputs": [
        {
          "output_type": "display_data",
          "data": {
            "text/plain": [
              "<Figure size 432x288 with 1 Axes>"
            ],
            "image/png": "[encoded data removed]"
          },
          "metadata": {
            "needs_background": "light"
          }
        }
      ]
    },
    {
      "cell_type": "code",
      "source": [
        "plot_boxplot(df_raw, \"CVotes08\")"
      ],
      "metadata": {
        "colab": {
          "base_uri": "https://localhost:8080/",
          "height": 265
        },
        "id": "-kcf6WbOEPO_",
        "outputId": "134a1189-2dbb-4c50-cf5b-d032d0ccb310"
      },
      "execution_count": null,
      "outputs": [
        {
          "output_type": "display_data",
          "data": {
            "text/plain": [
              "<Figure size 432x288 with 1 Axes>"
            ],
            "image/png": "[encoded data removed]"
          },
          "metadata": {
            "needs_background": "light"
          }
        }
      ]
    },
    {
      "cell_type": "code",
      "source": [
        "plot_boxplot(df_raw, \"CVotes09\")"
      ],
      "metadata": {
        "colab": {
          "base_uri": "https://localhost:8080/",
          "height": 266
        },
        "id": "xz06ytedEPTI",
        "outputId": "d7335bf8-cc9c-46a3-94a1-57602ebaa457"
      },
      "execution_count": null,
      "outputs": [
        {
          "output_type": "display_data",
          "data": {
            "text/plain": [
              "<Figure size 432x288 with 1 Axes>"
            ],
            "image/png": "[encoded data removed]"
          },
          "metadata": {
            "needs_background": "light"
          }
        }
      ]
    },
    {
      "cell_type": "code",
      "source": [
        "#define a function called \"outliers\" which return a list of index of outliers\n",
        "# IQR = Q3-Q1\n",
        "# +/- 1.5*IQR\n",
        "\n",
        "def outliers(df, ft):\n",
        "  Q1=df[ft].quantile(0.25)\n",
        "  Q3=df[ft].quantile(0.75)\n",
        "  IQR=Q3-Q1\n",
        "\n",
        "  lower_bound = Q1 - 1.5 * IQR\n",
        "  upper_bound = Q3 + 1.5 * IQR\n",
        "\n",
        "  ls = df.index[ (df[ft] < lower_bound) | (df[ft] > upper_bound) ]\n",
        "  return ls"
      ],
      "metadata": {
        "id": "Jh1jtPbJEPUj"
      },
      "execution_count": null,
      "outputs": []
    },
    {
      "cell_type": "code",
      "source": [
        "# create an empty list to tore the output indices from multiple columns\n",
        "index_list=[]\n",
        "for feature in ['budget', 'Gross',\"CVotes10\", \"CVotes09\",\"CVotes08\",\"CVotes07\",\"CVotes06\",\"CVotes05\",\"CVotes04\",\"CVotes03\",\"CVotes02\",\"CVotes01\"]:\n",
        "  index_list.extend(outliers(df_raw, feature))"
      ],
      "metadata": {
        "id": "1z0R1jCAEPYh"
      },
      "execution_count": null,
      "outputs": []
    },
    {
      "cell_type": "code",
      "source": [
        "index_list"
      ],
      "metadata": {
        "colab": {
          "base_uri": "https://localhost:8080/"
        },
        "id": "tMZEE46SEPn0",
        "outputId": "351f6ba3-7168-46e2-dd31-b9819667993f"
      },
      "execution_count": null,
      "outputs": [
        {
          "output_type": "execute_result",
          "data": {
            "text/plain": [
              "[11,\n",
              " 97,\n",
              " 8,\n",
              " 11,\n",
              " 19,\n",
              " 26,\n",
              " 27,\n",
              " 35,\n",
              " 36,\n",
              " 8,\n",
              " 11,\n",
              " 26,\n",
              " 27,\n",
              " 35,\n",
              " 36,\n",
              " 40,\n",
              " 27,\n",
              " 11,\n",
              " 11,\n",
              " 34,\n",
              " 11,\n",
              " 34,\n",
              " 11,\n",
              " 27,\n",
              " 29,\n",
              " 34,\n",
              " 72,\n",
              " 11,\n",
              " 27,\n",
              " 29,\n",
              " 34,\n",
              " 72,\n",
              " 8,\n",
              " 11,\n",
              " 27,\n",
              " 34,\n",
              " 72,\n",
              " 97]"
            ]
          },
          "metadata": {},
          "execution_count": 35
        }
      ]
    },
    {
      "cell_type": "code",
      "source": [
        "# define a function called \"remove\" which returns a cleaned dataframe without outliers\n",
        "\n",
        "def remove(df, ls):\n",
        "  ls=sorted(set(ls))\n",
        "  df=df.drop(ls)\n",
        "  return df"
      ],
      "metadata": {
        "id": "d0wsaeuiEhgG"
      },
      "execution_count": null,
      "outputs": []
    },
    {
      "cell_type": "code",
      "source": [
        "df_cleaned=remove(df_raw, index_list)"
      ],
      "metadata": {
        "id": "IdNoZBTxEhi8"
      },
      "execution_count": null,
      "outputs": []
    },
    {
      "cell_type": "code",
      "source": [
        "df_cleaned.shape"
      ],
      "metadata": {
        "colab": {
          "base_uri": "https://localhost:8080/"
        },
        "id": "Kfmu43BAEnqT",
        "outputId": "d9fc730b-e2ef-4371-c06d-2661cc65ca5c"
      },
      "execution_count": null,
      "outputs": [
        {
          "output_type": "execute_result",
          "data": {
            "text/plain": [
              "(88, 62)"
            ]
          },
          "metadata": {},
          "execution_count": 38
        }
      ]
    },
    {
      "cell_type": "markdown",
      "source": [
        "previously (100,62) after cleaning data it is (88,62)"
      ],
      "metadata": {
        "id": "KzM5VwgqE2mh"
      }
    },
    {
      "cell_type": "code",
      "source": [
        "plot_boxplot(df_cleaned, 'Gross')"
      ],
      "metadata": {
        "colab": {
          "base_uri": "https://localhost:8080/",
          "height": 276
        },
        "id": "mcvQVP4_EntT",
        "outputId": "192936c8-f4d7-4088-e97a-07f9b097f40a"
      },
      "execution_count": null,
      "outputs": [
        {
          "output_type": "display_data",
          "data": {
            "text/plain": [
              "<Figure size 432x288 with 1 Axes>"
            ],
            "image/png": "[encoded data removed]"
          },
          "metadata": {
            "needs_background": "light"
          }
        }
      ]
    },
    {
      "cell_type": "code",
      "source": [
        "plot_boxplot(df_cleaned, 'CVotes05')"
      ],
      "metadata": {
        "colab": {
          "base_uri": "https://localhost:8080/",
          "height": 265
        },
        "id": "5VpFkv_rEn1o",
        "outputId": "5df7b3ce-19e5-4591-f945-e78060dcc472"
      },
      "execution_count": null,
      "outputs": [
        {
          "output_type": "display_data",
          "data": {
            "text/plain": [
              "<Figure size 432x288 with 1 Axes>"
            ],
            "image/png": "[encoded data removed]"
          },
          "metadata": {
            "needs_background": "light"
          }
        }
      ]
    },
    {
      "cell_type": "code",
      "source": [
        "df_cleaned.to_csv('test_cleaned.csv', index=False)"
      ],
      "metadata": {
        "id": "ySh6g9S6E-LZ"
      },
      "execution_count": null,
      "outputs": []
    },
    {
      "cell_type": "code",
      "source": [
        "df_raw=pd.read_csv(\"test_cleaned.csv\")\n",
        "df_raw.head()"
      ],
      "metadata": {
        "colab": {
          "base_uri": "https://localhost:8080/",
          "height": 352
        },
        "id": "DMErbQS8E-NK",
        "outputId": "94591e76-938a-47e3-9bd8-c1413518c98b"
      },
      "execution_count": null,
      "outputs": [
        {
          "output_type": "execute_result",
          "data": {
            "text/plain": [
              "                   Title  title_year     budget      Gross      actor_1_name  \\\n",
              "0             La La Land        2016   30000000  151101803      Ryan Gosling   \n",
              "1               Zootopia        2016  150000000  341268248  Ginnifer Goodwin   \n",
              "2                   Lion        2016   12000000   51738905         Dev Patel   \n",
              "3                Arrival        2016   47000000  100546139         Amy Adams   \n",
              "4  Manchester by the Sea        2016    9000000   47695371     Casey Affleck   \n",
              "\n",
              "         actor_2_name     actor_3_name  actor_1_facebook_likes  \\\n",
              "0          Emma Stone       Amiée Conn                   14000   \n",
              "1       Jason Bateman       Idris Elba                    2800   \n",
              "2       Nicole Kidman      Rooney Mara                   33000   \n",
              "3       Jeremy Renner  Forest Whitaker                   35000   \n",
              "4  Michelle Williams     Kyle Chandler                     518   \n",
              "\n",
              "   actor_2_facebook_likes  actor_3_facebook_likes  ...  Votes3044M Votes3044F  \\\n",
              "0                 19000.0                     NaN  ...         7.9        7.8   \n",
              "1                 28000.0                 27000.0  ...         7.8        8.1   \n",
              "2                 96000.0                  9800.0  ...         7.9        8.2   \n",
              "3                  5300.0                     NaN  ...         7.8        7.8   \n",
              "4                 71000.0                  3300.0  ...         7.7        7.7   \n",
              "\n",
              "  Votes45A Votes45AM  Votes45AF  Votes1000  VotesUS  VotesnUS  content_rating  \\\n",
              "0      7.6       7.6        7.5        7.1      8.3       8.1           PG-13   \n",
              "1      7.8       7.8        8.1        7.6      8.0       8.0              PG   \n",
              "2      8.0       7.9        8.4        7.1      8.1       8.0           PG-13   \n",
              "3      7.6       7.6        7.7        7.3      8.0       7.9           PG-13   \n",
              "4      7.6       7.6        7.6        7.1      7.9       7.8               R   \n",
              "\n",
              "     Country  \n",
              "0        USA  \n",
              "1        USA  \n",
              "2  Australia  \n",
              "3        USA  \n",
              "4        USA  \n",
              "\n",
              "[5 rows x 62 columns]"
            ],
            "text/html": [
              "\n",
              "  <div id=\"df-409c69cd-3baf-4db8-9e7d-034d17a7a1ac\">\n",
              "    <div class=\"colab-df-container\">\n",
              "      <div>\n",
              "<style scoped>\n",
              "    .dataframe tbody tr th:only-of-type {\n",
              "        vertical-align: middle;\n",
              "    }\n",
              "\n",
              "    .dataframe tbody tr th {\n",
              "        vertical-align: top;\n",
              "    }\n",
              "\n",
              "    .dataframe thead th {\n",
              "        text-align: right;\n",
              "    }\n",
              "</style>\n",
              "<table border=\"1\" class=\"dataframe\">\n",
              "  <thead>\n",
              "    <tr style=\"text-align: right;\">\n",
              "      <th></th>\n",
              "      <th>Title</th>\n",
              "      <th>title_year</th>\n",
              "      <th>budget</th>\n",
              "      <th>Gross</th>\n",
              "      <th>actor_1_name</th>\n",
              "      <th>actor_2_name</th>\n",
              "      <th>actor_3_name</th>\n",
              "      <th>actor_1_facebook_likes</th>\n",
              "      <th>actor_2_facebook_likes</th>\n",
              "      <th>actor_3_facebook_likes</th>\n",
              "      <th>...</th>\n",
              "      <th>Votes3044M</th>\n",
              "      <th>Votes3044F</th>\n",
              "      <th>Votes45A</th>\n",
              "      <th>Votes45AM</th>\n",
              "      <th>Votes45AF</th>\n",
              "      <th>Votes1000</th>\n",
              "      <th>VotesUS</th>\n",
              "      <th>VotesnUS</th>\n",
              "      <th>content_rating</th>\n",
              "      <th>Country</th>\n",
              "    </tr>\n",
              "  </thead>\n",
              "  <tbody>\n",
              "    <tr>\n",
              "      <th>0</th>\n",
              "      <td>La La Land</td>\n",
              "      <td>2016</td>\n",
              "      <td>30000000</td>\n",
              "      <td>151101803</td>\n",
              "      <td>Ryan Gosling</td>\n",
              "      <td>Emma Stone</td>\n",
              "      <td>Amiée Conn</td>\n",
              "      <td>14000</td>\n",
              "      <td>19000.0</td>\n",
              "      <td>NaN</td>\n",
              "      <td>...</td>\n",
              "      <td>7.9</td>\n",
              "      <td>7.8</td>\n",
              "      <td>7.6</td>\n",
              "      <td>7.6</td>\n",
              "      <td>7.5</td>\n",
              "      <td>7.1</td>\n",
              "      <td>8.3</td>\n",
              "      <td>8.1</td>\n",
              "      <td>PG-13</td>\n",
              "      <td>USA</td>\n",
              "    </tr>\n",
              "    <tr>\n",
              "      <th>1</th>\n",
              "      <td>Zootopia</td>\n",
              "      <td>2016</td>\n",
              "      <td>150000000</td>\n",
              "      <td>341268248</td>\n",
              "      <td>Ginnifer Goodwin</td>\n",
              "      <td>Jason Bateman</td>\n",
              "      <td>Idris Elba</td>\n",
              "      <td>2800</td>\n",
              "      <td>28000.0</td>\n",
              "      <td>27000.0</td>\n",
              "      <td>...</td>\n",
              "      <td>7.8</td>\n",
              "      <td>8.1</td>\n",
              "      <td>7.8</td>\n",
              "      <td>7.8</td>\n",
              "      <td>8.1</td>\n",
              "      <td>7.6</td>\n",
              "      <td>8.0</td>\n",
              "      <td>8.0</td>\n",
              "      <td>PG</td>\n",
              "      <td>USA</td>\n",
              "    </tr>\n",
              "    <tr>\n",
              "      <th>2</th>\n",
              "      <td>Lion</td>\n",
              "      <td>2016</td>\n",
              "      <td>12000000</td>\n",
              "      <td>51738905</td>\n",
              "      <td>Dev Patel</td>\n",
              "      <td>Nicole Kidman</td>\n",
              "      <td>Rooney Mara</td>\n",
              "      <td>33000</td>\n",
              "      <td>96000.0</td>\n",
              "      <td>9800.0</td>\n",
              "      <td>...</td>\n",
              "      <td>7.9</td>\n",
              "      <td>8.2</td>\n",
              "      <td>8.0</td>\n",
              "      <td>7.9</td>\n",
              "      <td>8.4</td>\n",
              "      <td>7.1</td>\n",
              "      <td>8.1</td>\n",
              "      <td>8.0</td>\n",
              "      <td>PG-13</td>\n",
              "      <td>Australia</td>\n",
              "    </tr>\n",
              "    <tr>\n",
              "      <th>3</th>\n",
              "      <td>Arrival</td>\n",
              "      <td>2016</td>\n",
              "      <td>47000000</td>\n",
              "      <td>100546139</td>\n",
              "      <td>Amy Adams</td>\n",
              "      <td>Jeremy Renner</td>\n",
              "      <td>Forest Whitaker</td>\n",
              "      <td>35000</td>\n",
              "      <td>5300.0</td>\n",
              "      <td>NaN</td>\n",
              "      <td>...</td>\n",
              "      <td>7.8</td>\n",
              "      <td>7.8</td>\n",
              "      <td>7.6</td>\n",
              "      <td>7.6</td>\n",
              "      <td>7.7</td>\n",
              "      <td>7.3</td>\n",
              "      <td>8.0</td>\n",
              "      <td>7.9</td>\n",
              "      <td>PG-13</td>\n",
              "      <td>USA</td>\n",
              "    </tr>\n",
              "    <tr>\n",
              "      <th>4</th>\n",
              "      <td>Manchester by the Sea</td>\n",
              "      <td>2016</td>\n",
              "      <td>9000000</td>\n",
              "      <td>47695371</td>\n",
              "      <td>Casey Affleck</td>\n",
              "      <td>Michelle Williams</td>\n",
              "      <td>Kyle Chandler</td>\n",
              "      <td>518</td>\n",
              "      <td>71000.0</td>\n",
              "      <td>3300.0</td>\n",
              "      <td>...</td>\n",
              "      <td>7.7</td>\n",
              "      <td>7.7</td>\n",
              "      <td>7.6</td>\n",
              "      <td>7.6</td>\n",
              "      <td>7.6</td>\n",
              "      <td>7.1</td>\n",
              "      <td>7.9</td>\n",
              "      <td>7.8</td>\n",
              "      <td>R</td>\n",
              "      <td>USA</td>\n",
              "    </tr>\n",
              "  </tbody>\n",
              "</table>\n",
              "<p>5 rows × 62 columns</p>\n",
              "</div>\n",
              "      <button class=\"colab-df-convert\" onclick=\"convertToInteractive('df-409c69cd-3baf-4db8-9e7d-034d17a7a1ac')\"\n",
              "              title=\"Convert this dataframe to an interactive table.\"\n",
              "              style=\"display:none;\">\n",
              "        \n",
              "  <svg xmlns=\"http://www.w3.org/2000/svg\" height=\"24px\"viewBox=\"0 0 24 24\"\n",
              "       width=\"24px\">\n",
              "    <path d=\"M0 0h24v24H0V0z\" fill=\"none\"/>\n",
              "    <path d=\"M18.56 5.44l.94 2.06.94-2.06 2.06-.94-2.06-.94-.94-2.06-.94 2.06-2.06.94zm-11 1L8.5 8.5l.94-2.06 2.06-.94-2.06-.94L8.5 2.5l-.94 2.06-2.06.94zm10 10l.94 2.06.94-2.06 2.06-.94-2.06-.94-.94-2.06-.94 2.06-2.06.94z\"/><path d=\"M17.41 7.96l-1.37-1.37c-.4-.4-.92-.59-1.43-.59-.52 0-1.04.2-1.43.59L10.3 9.45l-7.72 7.72c-.78.78-.78 2.05 0 2.83L4 21.41c.39.39.9.59 1.41.59.51 0 1.02-.2 1.41-.59l7.78-7.78 2.81-2.81c.8-.78.8-2.07 0-2.86zM5.41 20L4 18.59l7.72-7.72 1.47 1.35L5.41 20z\"/>\n",
              "  </svg>\n",
              "      </button>\n",
              "      \n",
              "  <style>\n",
              "    .colab-df-container {\n",
              "      display:flex;\n",
              "      flex-wrap:wrap;\n",
              "      gap: 12px;\n",
              "    }\n",
              "\n",
              "    .colab-df-convert {\n",
              "      background-color: #E8F0FE;\n",
              "      border: none;\n",
              "      border-radius: 50%;\n",
              "      cursor: pointer;\n",
              "      display: none;\n",
              "      fill: #1967D2;\n",
              "      height: 32px;\n",
              "      padding: 0 0 0 0;\n",
              "      width: 32px;\n",
              "    }\n",
              "\n",
              "    .colab-df-convert:hover {\n",
              "      background-color: #E2EBFA;\n",
              "      box-shadow: 0px 1px 2px rgba(60, 64, 67, 0.3), 0px 1px 3px 1px rgba(60, 64, 67, 0.15);\n",
              "      fill: #174EA6;\n",
              "    }\n",
              "\n",
              "    [theme=dark] .colab-df-convert {\n",
              "      background-color: #3B4455;\n",
              "      fill: #D2E3FC;\n",
              "    }\n",
              "\n",
              "    [theme=dark] .colab-df-convert:hover {\n",
              "      background-color: #434B5C;\n",
              "      box-shadow: 0px 1px 3px 1px rgba(0, 0, 0, 0.15);\n",
              "      filter: drop-shadow(0px 1px 2px rgba(0, 0, 0, 0.3));\n",
              "      fill: #FFFFFF;\n",
              "    }\n",
              "  </style>\n",
              "\n",
              "      <script>\n",
              "        const buttonEl =\n",
              "          document.querySelector('#df-409c69cd-3baf-4db8-9e7d-034d17a7a1ac button.colab-df-convert');\n",
              "        buttonEl.style.display =\n",
              "          google.colab.kernel.accessAllowed ? 'block' : 'none';\n",
              "\n",
              "        async function convertToInteractive(key) {\n",
              "          const element = document.querySelector('#df-409c69cd-3baf-4db8-9e7d-034d17a7a1ac');\n",
              "          const dataTable =\n",
              "            await google.colab.kernel.invokeFunction('convertToInteractive',\n",
              "                                                     [key], {});\n",
              "          if (!dataTable) return;\n",
              "\n",
              "          const docLinkHtml = 'Like what you see? Visit the ' +\n",
              "            '<a target=\"_blank\" href=https://colab.research.google.com/notebooks/data_table.ipynb>data table notebook</a>'\n",
              "            + ' to learn more about interactive tables.';\n",
              "          element.innerHTML = '';\n",
              "          dataTable['output_type'] = 'display_data';\n",
              "          await google.colab.output.renderOutput(dataTable, element);\n",
              "          const docLink = document.createElement('div');\n",
              "          docLink.innerHTML = docLinkHtml;\n",
              "          element.appendChild(docLink);\n",
              "        }\n",
              "      </script>\n",
              "    </div>\n",
              "  </div>\n",
              "  "
            ]
          },
          "metadata": {},
          "execution_count": 42
        }
      ]
    },
    {
      "cell_type": "code",
      "source": [
        "print(df_raw.info()) "
      ],
      "metadata": {
        "colab": {
          "base_uri": "https://localhost:8080/"
        },
        "id": "FBL2FjB9E-Qm",
        "outputId": "cda52cc1-ff0b-426e-fdb2-2d378379192d"
      },
      "execution_count": null,
      "outputs": [
        {
          "output_type": "stream",
          "name": "stdout",
          "text": [
            "<class 'pandas.core.frame.DataFrame'>\n",
            "RangeIndex: 88 entries, 0 to 87\n",
            "Data columns (total 62 columns):\n",
            " #   Column                  Non-Null Count  Dtype  \n",
            "---  ------                  --------------  -----  \n",
            " 0   Title                   88 non-null     object \n",
            " 1   title_year              88 non-null     int64  \n",
            " 2   budget                  88 non-null     int64  \n",
            " 3   Gross                   88 non-null     int64  \n",
            " 4   actor_1_name            88 non-null     object \n",
            " 5   actor_2_name            88 non-null     object \n",
            " 6   actor_3_name            88 non-null     object \n",
            " 7   actor_1_facebook_likes  88 non-null     int64  \n",
            " 8   actor_2_facebook_likes  87 non-null     float64\n",
            " 9   actor_3_facebook_likes  86 non-null     float64\n",
            " 10  IMDb_rating             88 non-null     float64\n",
            " 11  genre_1                 88 non-null     object \n",
            " 12  genre_2                 85 non-null     object \n",
            " 13  genre_3                 67 non-null     object \n",
            " 14  MetaCritic              83 non-null     float64\n",
            " 15  Runtime                 88 non-null     int64  \n",
            " 16  CVotes10                88 non-null     int64  \n",
            " 17  CVotes09                88 non-null     int64  \n",
            " 18  CVotes08                88 non-null     int64  \n",
            " 19  CVotes07                88 non-null     int64  \n",
            " 20  CVotes06                88 non-null     int64  \n",
            " 21  CVotes05                88 non-null     int64  \n",
            " 22  CVotes04                88 non-null     int64  \n",
            " 23  CVotes03                88 non-null     int64  \n",
            " 24  CVotes02                88 non-null     int64  \n",
            " 25  CVotes01                88 non-null     int64  \n",
            " 26  CVotesMale              88 non-null     int64  \n",
            " 27  CVotesFemale            88 non-null     int64  \n",
            " 28  CVotesU18               88 non-null     int64  \n",
            " 29  CVotesU18M              88 non-null     int64  \n",
            " 30  CVotesU18F              88 non-null     int64  \n",
            " 31  CVotes1829              88 non-null     int64  \n",
            " 32  CVotes1829M             88 non-null     int64  \n",
            " 33  CVotes1829F             88 non-null     int64  \n",
            " 34  CVotes3044              88 non-null     int64  \n",
            " 35  CVotes3044M             88 non-null     int64  \n",
            " 36  CVotes3044F             88 non-null     int64  \n",
            " 37  CVotes45A               88 non-null     int64  \n",
            " 38  CVotes45AM              88 non-null     int64  \n",
            " 39  CVotes45AF              88 non-null     int64  \n",
            " 40  CVotes1000              88 non-null     int64  \n",
            " 41  CVotesUS                88 non-null     int64  \n",
            " 42  CVotesnUS               88 non-null     int64  \n",
            " 43  VotesM                  88 non-null     float64\n",
            " 44  VotesF                  88 non-null     float64\n",
            " 45  VotesU18                88 non-null     float64\n",
            " 46  VotesU18M               88 non-null     float64\n",
            " 47  VotesU18F               88 non-null     float64\n",
            " 48  Votes1829               88 non-null     float64\n",
            " 49  Votes1829M              88 non-null     float64\n",
            " 50  Votes1829F              88 non-null     float64\n",
            " 51  Votes3044               88 non-null     float64\n",
            " 52  Votes3044M              88 non-null     float64\n",
            " 53  Votes3044F              88 non-null     float64\n",
            " 54  Votes45A                88 non-null     float64\n",
            " 55  Votes45AM               88 non-null     float64\n",
            " 56  Votes45AF               88 non-null     float64\n",
            " 57  Votes1000               88 non-null     float64\n",
            " 58  VotesUS                 88 non-null     float64\n",
            " 59  VotesnUS                88 non-null     float64\n",
            " 60  content_rating          88 non-null     object \n",
            " 61  Country                 88 non-null     object \n",
            "dtypes: float64(21), int64(32), object(9)\n",
            "memory usage: 42.8+ KB\n",
            "None\n"
          ]
        }
      ]
    }
  ]
}