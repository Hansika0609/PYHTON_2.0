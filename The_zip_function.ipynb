{
  "nbformat": 4,
  "nbformat_minor": 0,
  "metadata": {
    "colab": {
      "provenance": [],
      "authorship_tag": "ABX9TyMrQ5AJ8gQt+KRDIrZujENi",
      "include_colab_link": true
    },
    "kernelspec": {
      "name": "python3",
      "display_name": "Python 3"
    },
    "language_info": {
      "name": "python"
    }
  },
  "cells": [
    {
      "cell_type": "markdown",
      "metadata": {
        "id": "view-in-github",
        "colab_type": "text"
      },
      "source": [
        "<a href=\"https://colab.research.google.com/github/Hansika0609/PYHTON_2.0/blob/Fundamentals/The_zip_function.ipynb\" target=\"_parent\"><img src=\"https://colab.research.google.com/assets/colab-badge.svg\" alt=\"Open In Colab\"/></a>"
      ]
    },
    {
      "cell_type": "code",
      "execution_count": 1,
      "metadata": {
        "colab": {
          "base_uri": "https://localhost:8080/"
        },
        "id": "gC9BdjPW8tbg",
        "outputId": "a8c24913-8a0f-47e0-a468-36ea33afc3b9"
      },
      "outputs": [
        {
          "output_type": "stream",
          "name": "stdout",
          "text": [
            "{'Rolf': 3, 'Bob': 7, 'Jen': 15, 'Anne': 11}\n"
          ]
        }
      ],
      "source": [
        "\"\"\"\n",
        "friends = [\"Rolf\", \"Bob\", \"Jen\", \"Anne\"]\n",
        "time_since_seen = [3, 7, 15, 11]\n",
        "\n",
        "long_timers = {\n",
        "    friends[i]: time_since_seen[i]\n",
        "    for i in range(len(friends))\n",
        "    if time_since_seen[i] > 5\n",
        "}\n",
        "\n",
        "print(long_timers)\n",
        "\"\"\"\n",
        "\n",
        "# While that is extremely useful when we have conditionals, sometimes we\n",
        "# just want to create a dictionary out of two lists or tuples.\n",
        "# That's when `zip` comes in handy!\n",
        "\n",
        "friends = [\"Rolf\", \"Bob\", \"Jen\", \"Anne\"]\n",
        "time_since_seen = [3, 7, 15, 11]\n",
        "\n",
        "# Remember how we can turn a list of lists or tuples into a dictionary?\n",
        "# `zip(friends, time_since_seen)` returns something like [(\"Rolf\", 3), (\"Bob\", 7)...]\n",
        "# We then use `dict()` on that to get a dictionary.\n",
        "\n",
        "friends_last_seen = dict(zip(friends, time_since_seen))\n",
        "print(friends_last_seen)\n"
      ]
    }
  ]
}