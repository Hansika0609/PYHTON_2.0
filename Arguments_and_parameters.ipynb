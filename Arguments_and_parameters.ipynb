{
  "nbformat": 4,
  "nbformat_minor": 0,
  "metadata": {
    "colab": {
      "provenance": [],
      "authorship_tag": "ABX9TyO7XcBkFVr83r49IZrxtHO3",
      "include_colab_link": true
    },
    "kernelspec": {
      "name": "python3",
      "display_name": "Python 3"
    },
    "language_info": {
      "name": "python"
    }
  },
  "cells": [
    {
      "cell_type": "markdown",
      "metadata": {
        "id": "view-in-github",
        "colab_type": "text"
      },
      "source": [
        "<a href=\"https://colab.research.google.com/github/Hansika0609/PYHTON_2.0/blob/Fundamentals/Arguments_and_parameters.ipynb\" target=\"_parent\"><img src=\"https://colab.research.google.com/assets/colab-badge.svg\" alt=\"Open In Colab\"/></a>"
      ]
    },
    {
      "cell_type": "code",
      "execution_count": 7,
      "metadata": {
        "colab": {
          "base_uri": "https://localhost:8080/"
        },
        "id": "e1VvfaOHHWbT",
        "outputId": "6ddab08c-54ea-45c9-f1dd-8dfd7747642d"
      },
      "outputs": [
        {
          "output_type": "stream",
          "name": "stdout",
          "text": [
            "Ford Fiesta does 50.0 miles per gallon.\n"
          ]
        }
      ],
      "source": [
        "# Imagine you've got some code that calculates the fuel efficiency of a car:\n",
        "\n",
        "car = {\"make\": \"Ford\", \"model\": \"Fiesta\", \"mileage\": 23000, \"fuel_consumed\": 460}\n",
        "\n",
        "mpg = car[\"mileage\"] / car[\"fuel_consumed\"]\n",
        "name = f\"{car['make']} {car['model']}\"\n",
        "print(f\"{name} does {mpg} miles per gallon.\")\n",
        "\n"
      ]
    },
    {
      "cell_type": "code",
      "source": [
        "# You could put this in a function:\n",
        "\n",
        "\n",
        "def calculate_mpg():\n",
        "    car = {\"make\": \"Ford\", \"model\": \"Fiesta\", \"mileage\": 23000, \"fuel_consumed\": 460}\n",
        "\n",
        "    mpg = car[\"mileage\"] / car[\"fuel_consumed\"]\n",
        "    name = f\"{car['make']} {car['model']}\"\n",
        "    print(f\"{name} does {mpg} miles per gallon.\")\n",
        "\n",
        "\n",
        "calculate_mpg()"
      ],
      "metadata": {
        "colab": {
          "base_uri": "https://localhost:8080/"
        },
        "id": "sjlb7rxyHjWx",
        "outputId": "3d5f29f7-5ab1-4baf-817d-79ea73538c89"
      },
      "execution_count": 8,
      "outputs": [
        {
          "output_type": "stream",
          "name": "stdout",
          "text": [
            "Ford Fiesta does 50.0 miles per gallon.\n"
          ]
        }
      ]
    },
    {
      "cell_type": "code",
      "source": [
        "# But this is not a very reusable function since it only calculates the mpg of a single car.\n",
        "# What if we made it calculate the mpg of \"any\" arbitrary car?\n",
        "\n",
        "car = {\"make\": \"Ford\", \"model\": \"Fiesta\", \"mileage\": 23000, \"fuel_consumed\": 460}\n",
        "\n",
        "\n",
        "def calculate_mpg(car_to_calculate):  # This can be renamed to `car`\n",
        "    mpg = car_to_calculate[\"mileage\"] / car_to_calculate[\"fuel_consumed\"]\n",
        "    name = f\"{car_to_calculate['make']} {car_to_calculate['model']}\"\n",
        "    print(f\"{name} does {mpg} miles per gallon.\")\n",
        "\n",
        "\n",
        "calculate_mpg(car)\n"
      ],
      "metadata": {
        "colab": {
          "base_uri": "https://localhost:8080/"
        },
        "id": "KSLPHLCmHkNI",
        "outputId": "9f4f3dd0-02d1-49e2-b13e-83c53e4b32a3"
      },
      "execution_count": 9,
      "outputs": [
        {
          "output_type": "stream",
          "name": "stdout",
          "text": [
            "Ford Fiesta does 50.0 miles per gallon.\n"
          ]
        }
      ]
    },
    {
      "cell_type": "code",
      "source": [
        "# This means that given a list of cars with the correct data format, we can run the function for all of them!\n",
        "\n",
        "cars = [\n",
        "    {\"make\": \"Ford\", \"model\": \"Fiesta\", \"mileage\": 23000, \"fuel_consumed\": 460},\n",
        "    {\"make\": \"Ford\", \"model\": \"Focus\", \"mileage\": 17000, \"fuel_consumed\": 350},\n",
        "    {\"make\": \"Mazda\", \"model\": \"MX-5\", \"mileage\": 49000, \"fuel_consumed\": 900},\n",
        "    {\"make\": \"Mini\", \"model\": \"Cooper\", \"mileage\": 31000, \"fuel_consumed\": 235},\n",
        "]\n",
        "\n",
        "for car in cars:\n",
        "    calculate_mpg(car)\n"
      ],
      "metadata": {
        "colab": {
          "base_uri": "https://localhost:8080/"
        },
        "id": "L3shx4PfHpp0",
        "outputId": "996360ef-31d5-4cac-ab8a-028a8e39f2f8"
      },
      "execution_count": 10,
      "outputs": [
        {
          "output_type": "stream",
          "name": "stdout",
          "text": [
            "Ford Fiesta does 50.0 miles per gallon.\n",
            "Ford Focus does 48.57142857142857 miles per gallon.\n",
            "Mazda MX-5 does 54.44444444444444 miles per gallon.\n",
            "Mini Cooper does 131.91489361702128 miles per gallon.\n"
          ]
        }
      ]
    }
  ]
}